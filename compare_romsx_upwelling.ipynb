{
 "cells": [
  {
   "cell_type": "code",
   "execution_count": null,
   "id": "e64fdc61-5630-4447-8353-32b05a23267c",
   "metadata": {},
   "outputs": [],
   "source": [
    "import xarray\n",
    "import numpy as np\n",
    "\n",
    "import hvplot.xarray\n",
    "\n",
    "import cartopy.crs as ccrs\n",
    "import cartopy.feature as cfeature\n",
    "import geoviews as gv\n",
    "\n",
    "import matplotlib.pyplot as plt\n",
    "%matplotlib inline\n",
    "import cmocean.cm as cmo"
   ]
  },
  {
   "cell_type": "code",
   "execution_count": null,
   "id": "c151c2fe-ddf5-4157-a421-15827dc2a8ea",
   "metadata": {},
   "outputs": [],
   "source": [
    "import os\n",
    "home_top_dir=os.environ[\"HOME\"]\n",
    "print(\"Assuming your files are stored somewhere similar to mine,\\nwith $HOME/COAWST and $HOME/seahorce-scidac/ROMSX\\nwhere your environment variable $HOME reads as \"+home_top_dir+\"\\n\")\n",
    "print(home_top_dir)"
   ]
  },
  {
   "cell_type": "markdown",
   "id": "c4d32a4d-e966-4501-a4fe-fda667d7a6f3",
   "metadata": {},
   "source": [
    "Load ROMS data from upwelling test\n",
    "=================================="
   ]
  },
  {
   "cell_type": "code",
   "execution_count": null,
   "id": "75da983f-725b-4da7-ae7c-986d750bfca8",
   "metadata": {},
   "outputs": [],
   "source": [
    "ds_roms = xarray.open_dataset(home_top_dir+\"/COAWST/roms_his.nc\", chunks={\"ocean_time\": 21})\n",
    "ds_roms"
   ]
  },
  {
   "cell_type": "code",
   "execution_count": null,
   "id": "904e239b-08e4-4327-950a-301ea32d86c4",
   "metadata": {},
   "outputs": [],
   "source": [
    "\n",
    "if ds_roms.Vtransform == 1:\n",
    "    Zo_rho = ds_roms.hc * (ds_roms.s_rho - ds_roms.Cs_r) + ds_roms.Cs_r * ds_roms.h\n",
    "    z_rho = Zo_rho + ds_roms.zeta * (1 + Zo_rho / ds_roms.h)\n",
    "    Zo_w = ds_roms.hc * (ds_roms.s_w - ds_roms.Cs_w) + ds_roms.Cs_w * ds_roms.h\n",
    "    z_w = Zo_w + ds_roms.zeta * (1 + Zo_w / ds_roms.h)\n",
    "    # also include z coordinates with mean sea level (constant over time)\n",
    "    z_rho0 = Zo_rho\n",
    "    z_w0 = Zo_w\n",
    "elif ds_roms.Vtransform == 2:\n",
    "    Zo_rho = (ds_roms.hc * ds_roms.s_rho + ds_roms.Cs_r * ds_roms.h) / (ds_roms.hc + ds_roms.h)\n",
    "    z_rho = ds_roms.zeta + (ds_roms.zeta + ds_roms.h) * Zo_rho\n",
    "    Zo_w = (ds_roms.hc * ds_roms.s_w + ds_roms.Cs_w * ds_roms.h) / (ds_roms.hc + ds_roms.h)\n",
    "    z_w = ds_roms.zeta + (ds_roms.zeta + ds_roms.h) * Zo_w\n",
    "    # also include z coordinates with mean sea level (constant over time)\n",
    "    z_rho0 = ds_roms.h * Zo_rho\n",
    "    z_w0 = ds_roms.h * Zo_w\n",
    "\n",
    "ds_roms.coords[\"z_w\"] = z_w.transpose('ocean_time', 's_w', 'eta_rho', 'xi_rho')\n",
    "ds_roms.coords[\"z_rho\"] = z_rho.transpose('ocean_time', 's_rho', 'eta_rho', 'xi_rho')\n",
    "ds_roms.coords[\"z_rho0\"] = z_rho0.transpose('s_rho', 'eta_rho', 'xi_rho')\n",
    "ds_roms.coords[\"z_w0\"] = z_w0.transpose('s_w', 'eta_rho', 'xi_rho')\n",
    "\n"
   ]
  },
  {
   "cell_type": "code",
   "execution_count": null,
   "id": "076cf429-26ab-4b3c-8119-3ca50d83fffc",
   "metadata": {},
   "outputs": [],
   "source": [
    "section = ds_roms.temp.isel(xi_rho=slice(2,42), eta_rho=0, ocean_time=0)\n",
    "plt=section.plot(x=\"x_rho\", y=\"z_rho\", figsize=(15, 6), clim=(25, 35))\n",
    "plt.set_clim([14, 22]);"
   ]
  },
  {
   "cell_type": "code",
   "execution_count": null,
   "id": "cb28656e-6179-4dd6-8716-f452ffaed551",
   "metadata": {},
   "outputs": [],
   "source": [
    "print(ds_roms.temp.isel(xi_rho=slice(1,2),eta_rho=slice(1,2),s_rho=slice(11,12),ocean_time=0).max().as_numpy())\n",
    "print(ds_roms.temp.isel(xi_rho=slice(1,2),eta_rho=slice(1,2),s_rho=slice(11,12),ocean_time=0).min().as_numpy())"
   ]
  },
  {
   "cell_type": "markdown",
   "id": "7d9a3bce-4b1f-453f-b269-8fe0731d4452",
   "metadata": {},
   "source": [
    "Load ROMSX dataset from Exec/Upwelling\n",
    "======================================"
   ]
  },
  {
   "cell_type": "code",
   "execution_count": null,
   "id": "661a8f30-c133-4168-b154-979c7b8246a3",
   "metadata": {
    "tags": []
   },
   "outputs": [],
   "source": [
    "ds = xarray.open_dataset(home_top_dir+\"/seahorce-scidac/ROMSX/Exec/Upwelling/plt00000_d01.nc\", chunks={\"current_time\": 0})\n",
    "ds"
   ]
  },
  {
   "cell_type": "code",
   "execution_count": null,
   "id": "d08b86c4-7034-4882-a96c-8d837212d0a1",
   "metadata": {},
   "outputs": [],
   "source": [
    "section = ds.temp.isel(eta_rho=0)\n",
    "plt=section.plot(x=\"x_rho\", y=\"z_rho\", figsize=(15, 6), clim=(25, 35))\n",
    "plt.set_clim([14, 22]);"
   ]
  },
  {
   "cell_type": "code",
   "execution_count": null,
   "id": "c5802192-9380-4806-931c-bf0ed1d19118",
   "metadata": {},
   "outputs": [],
   "source": [
    "print(ds.temp.isel(xi_rho=slice(0,1),eta_rho=slice(0,1),z_rho=slice(11,12)).max().as_numpy())\n",
    "print(ds.temp.isel(xi_rho=slice(0,1),eta_rho=slice(0,1),z_rho=slice(11,12)).min().as_numpy())"
   ]
  },
  {
   "cell_type": "raw",
   "id": "55460b0e-33dd-411b-a4a0-cd97b4fce644",
   "metadata": {},
   "source": [
    "this is an example of extracting fixed resolution data: https://yt-project.org/doc/cookbook/constructing_data_objects.html?highlight=fixed%20resolution%20data#extracting-fixed-resolution-data\n",
    "to iterate over the grids, after loading the dataset you'd do:\n",
    "\n",
    "for g in ds.index.grids:\n",
    "print(g[('gas', 'density')])\n",
    "\n",
    "https://yt-project.org/doc/quickstart/data_inspection.html?highlight=grid%20inspection"
   ]
  },
  {
   "cell_type": "markdown",
   "id": "795da44b-082e-4d5f-abc7-39a7471f5e03",
   "metadata": {},
   "source": [
    "Compare\n",
    "=======\n",
    "Goal is to be able to make an \"error\" plot for more eye-norms, next step requires making the coordinate directions the same such that xi_rho (the 2-d version) and x_rho (the 1-d version) are comparable"
   ]
  },
  {
   "cell_type": "code",
   "execution_count": null,
   "id": "632f7155-fad3-47bb-83bf-78beecca703b",
   "metadata": {},
   "outputs": [],
   "source": [
    "for k in np.arange(0,12):\n",
    "    diff_temp=((ds.temp.isel(xi_rho=slice(0,1), eta_rho=slice(0,1),z_rho=slice(1+k,2+k))).as_numpy()-(ds_roms.temp.isel(xi_rho=slice(1,2), eta_rho=slice(1,2),s_rho=slice(1+k,2+k), ocean_time=0)).as_numpy())\n",
    "    print(diff_temp[0][0][0][0])\n"
   ]
  },
  {
   "cell_type": "code",
   "execution_count": null,
   "id": "96592e0c-fdf4-45f3-9e31-f829401cadb8",
   "metadata": {},
   "outputs": [],
   "source": [
    "diff_temp=((ds.temp.isel(x_rho=slice(1,41), y_rho=40)).as_numpy()-(ds_roms.temp.isel(x_rho=slice(2,42), y_rho=40, ocean_time=0)).as_numpy())\n",
    "diff_temp.as_numpy()"
   ]
  },
  {
   "cell_type": "code",
   "execution_count": null,
   "id": "b46e1682-6090-4ec5-8b83-b82f0fef12ac",
   "metadata": {},
   "outputs": [],
   "source": []
  },
  {
   "cell_type": "code",
   "execution_count": null,
   "id": "eae76846-d339-4a09-962f-fe541f853f3c",
   "metadata": {},
   "outputs": [],
   "source": []
  }
 ],
 "metadata": {
  "kernelspec": {
   "display_name": "seahorse-cori-mp111",
   "language": "python",
   "name": "seahorce-cori-mp111"
  },
  "language_info": {
   "codemirror_mode": {
    "name": "ipython",
    "version": 3
   },
   "file_extension": ".py",
   "mimetype": "text/x-python",
   "name": "python",
   "nbconvert_exporter": "python",
   "pygments_lexer": "ipython3",
   "version": "3.10.6"
  }
 },
 "nbformat": 4,
 "nbformat_minor": 5
}
