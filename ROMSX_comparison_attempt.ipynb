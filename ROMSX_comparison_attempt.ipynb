{
 "cells": [
  {
   "cell_type": "code",
   "execution_count": null,
   "id": "ff97f66a",
   "metadata": {},
   "outputs": [],
   "source": [
    "import xarray\n",
    "import hvplot.xarray\n",
    "import xarray\n",
    "import numpy as np\n",
    "\n",
    "import hvplot.xarray\n",
    "\n",
    "import cartopy.crs as ccrs\n",
    "import cartopy.feature as cfeature\n",
    "import geoviews as gv\n",
    "\n",
    "import matplotlib.pyplot as plt\n",
    "%matplotlib inline\n",
    "import cmocean.cm as cmo\n",
    "import os\n",
    "home_top_dir=os.environ[\"HOME\"]\n",
    "\n"
   ]
  },
  {
   "cell_type": "code",
   "execution_count": null,
   "id": "56770809",
   "metadata": {},
   "outputs": [],
   "source": [
    "a=np.zeros([40,80,16,10])\n",
    "b=np.zeros([40,80,16,10])\n",
    "diff_temp=np.zeros([40,80,16,10])\n",
    "ds_roms = xarray.open_dataset(home_top_dir+\"/seahorce-scidac/COAWST/roms_his.nc\", chunks={\"ocean_time\": 100})\n",
    "ds = xarray.open_dataset(home_top_dir+\"/seahorce-scidac/ROMSX/Exec/Upwelling/plt_his.nc\", chunks={\"ocean_time\": 100})\n",
    "for k in np.arange(-1,15):\n",
    "    for j in np.arange(0,8):\n",
    "        for i in np.arange(0,4):\n",
    "            for n in np.arange(0,10):\n",
    "                a[i,j,k,n]=(ds.temp.isel(xi_rho=slice(i,i+1), eta_rho=slice(j,j+1),s_rho=slice(1+k,2+k),ocean_time=n)).as_numpy()\n",
    "                b[i,j,k,n]=(ds_roms.temp.isel(xi_rho=slice(i,i+1), eta_rho=slice(j,j+1),s_rho=slice(1+k,2+k), ocean_time=n)).as_numpy()\n",
    "                diff_temp[i,j,k,n]=a[i,j,k,n]-b[i,j,k,n]\n",
    "print(np.sum(diff_temp))"
   ]
  },
  {
   "cell_type": "code",
   "execution_count": null,
   "id": "07e8a593",
   "metadata": {},
   "outputs": [],
   "source": [
    "#sanity check we're evolving something\n",
    "print(np.sum(a[:,:,:,9]-a[:,:,:,0]))"
   ]
  },
  {
   "cell_type": "code",
   "execution_count": null,
   "id": "08898303",
   "metadata": {},
   "outputs": [],
   "source": [
    "a=np.zeros([41,80,16])\n",
    "b=np.zeros([41,80,16])\n",
    "diff_vel=np.zeros([41,80,16])\n",
    "ds_roms = xarray.open_dataset(home_top_dir+\"/seahorce-scidac/COAWST/roms_his.nc\", chunks={\"ocean_time\": 100})\n",
    "ds = xarray.open_dataset(home_top_dir+\"/seahorce-scidac/ROMSX/Exec/Upwelling/plt_his.nc\", chunks={\"ocean_time\": 100})\n",
    "for k in np.arange(0,14):\n",
    "    for j in np.arange(0,1):\n",
    "        for i in np.arange(0,1):\n",
    "            a[i,j,k]=(ds.x_velocity.isel(xi_rho=slice(i,i+1), eta_rho=slice(j,j+1),s_rho=slice(k,1+k),ocean_time=2)).as_numpy()\n",
    "            b[i,j,k]=(ds_roms.u.isel(xi_u=slice(i+1,i+2), eta_u=slice(j+1,j+2),s_rho=slice(k,1+k), ocean_time=2)).as_numpy()\n",
    "            #print(b[i,j,k])\n",
    "            #print((ds_roms.u.isel(xi_u=slice(i+1,i+2), eta_u=slice(j+1,j+2),s_rho=slice(k,1+k), ocean_time=3)).as_numpy())\n",
    "            diff_vel[i,j,k]=a[i,j,k]-b[i,j,k]\n",
    "            if(diff_vel[i,j,k]!=0):\n",
    "                print(i,j,k,diff_vel[i,j,k], a[i,j,k]-b[i,j,k],a[i,j,k],b[i,j,k],\"u\")\n",
    "            a[i,j,k]=(ds.y_velocity.isel(xi_rho=slice(i,i+1), eta_rho=slice(j,j+1),s_rho=slice(k,1+k),ocean_time=10)).as_numpy()\n",
    "            b[i,j,k]=(ds_roms.v.isel(xi_v=slice(i+1,i+2), eta_v=slice(j+1,j+2),s_rho=slice(k,1+k), ocean_time=10)).as_numpy()\n",
    "            #print(b[i,j,k])\n",
    "            #print((ds_roms.u.isel(xi_u=slice(i+1,i+2), eta_u=slice(j+1,j+2),s_rho=slice(k,1+k), ocean_time=3)).as_numpy())\n",
    "            diff_vel[i,j,k]+=a[i,j,k]-b[i,j,k]\n",
    "            if(diff_vel[i,j,k]!=0):\n",
    "                print(i,j,k,diff_vel[i,j,k], a[i,j,k]-b[i,j,k],a[i,j,k],b[i,j,k],\"v\")\n",
    "print(np.sum(diff_vel))\n",
    "print(diff_vel)"
   ]
  },
  {
   "cell_type": "code",
   "execution_count": null,
   "id": "c19ce521",
   "metadata": {
    "scrolled": false
   },
   "outputs": [],
   "source": [
    "plt.pcolor(diff_vel[:,:,10])"
   ]
  },
  {
   "cell_type": "code",
   "execution_count": null,
   "id": "e6d18d29",
   "metadata": {
    "scrolled": false
   },
   "outputs": [],
   "source": [
    "plt.pcolor(diff_temp[:,2,:])"
   ]
  },
  {
   "cell_type": "code",
   "execution_count": null,
   "id": "a50145b9",
   "metadata": {},
   "outputs": [],
   "source": []
  }
 ],
 "metadata": {
  "kernelspec": {
   "display_name": "Python 3 (ipykernel)",
   "language": "python",
   "name": "python3"
  },
  "language_info": {
   "codemirror_mode": {
    "name": "ipython",
    "version": 3
   },
   "file_extension": ".py",
   "mimetype": "text/x-python",
   "name": "python",
   "nbconvert_exporter": "python",
   "pygments_lexer": "ipython3",
   "version": "3.10.10"
  }
 },
 "nbformat": 4,
 "nbformat_minor": 5
}
