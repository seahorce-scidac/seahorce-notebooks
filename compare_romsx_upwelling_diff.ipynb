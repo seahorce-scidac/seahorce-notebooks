{
 "cells": [
  {
   "cell_type": "code",
   "execution_count": null,
   "id": "e64fdc61-5630-4447-8353-32b05a23267c",
   "metadata": {},
   "outputs": [],
   "source": [
    "import xarray\n",
    "import numpy as np\n",
    "\n",
    "import hvplot.xarray\n",
    "\n",
    "import cartopy.crs as ccrs\n",
    "import cartopy.feature as cfeature\n",
    "import geoviews as gv\n",
    "\n",
    "import matplotlib.pyplot as plt\n",
    "%matplotlib inline\n",
    "import cmocean.cm as cmo"
   ]
  },
  {
   "cell_type": "code",
   "execution_count": null,
   "id": "c151c2fe-ddf5-4157-a421-15827dc2a8ea",
   "metadata": {},
   "outputs": [],
   "source": [
    "import os\n",
    "home_top_dir=os.environ[\"HOME\"]\n",
    "print(\"Assuming your files are stored somewhere similar to mine,\\nwith $HOME/COAWST and $HOME/seahorce-scidac/ROMSX\\nwhere your environment variable $HOME reads as \"+home_top_dir+\"\\n\")\n",
    "print(home_top_dir)"
   ]
  },
  {
   "cell_type": "markdown",
   "id": "c4d32a4d-e966-4501-a4fe-fda667d7a6f3",
   "metadata": {
    "jp-MarkdownHeadingCollapsed": true,
    "tags": []
   },
   "source": [
    "Load ROMS data from upwelling test\n",
    "=================================="
   ]
  },
  {
   "cell_type": "code",
   "execution_count": null,
   "id": "75da983f-725b-4da7-ae7c-986d750bfca8",
   "metadata": {},
   "outputs": [],
   "source": [
    "#ds_roms = xarray.open_dataset(home_top_dir+\"/COAWST/roms_his.nc\", chunks={\"ocean_time\": 10})\n",
    "#ds_roms\n",
    "ds_roms = xarray.open_dataset(home_top_dir+\"/roms_his.nc\", chunks={\"ocean_time\": 10})\n",
    "ds_roms"
   ]
  },
  {
   "cell_type": "code",
   "execution_count": null,
   "id": "904e239b-08e4-4327-950a-301ea32d86c4",
   "metadata": {},
   "outputs": [],
   "source": [
    "\n",
    "if ds_roms.Vtransform == 1:\n",
    "    Zo_rho = ds_roms.hc * (ds_roms.s_rho - ds_roms.Cs_r) + ds_roms.Cs_r * ds_roms.h\n",
    "    z_rho = Zo_rho + ds_roms.zeta * (1 + Zo_rho / ds_roms.h)\n",
    "    Zo_w = ds_roms.hc * (ds_roms.s_w - ds_roms.Cs_w) + ds_roms.Cs_w * ds_roms.h\n",
    "    z_w = Zo_w + ds_roms.zeta * (1 + Zo_w / ds_roms.h)\n",
    "    # also include z coordinates with mean sea level (constant over time)\n",
    "    z_rho0 = Zo_rho\n",
    "    z_w0 = Zo_w\n",
    "elif ds_roms.Vtransform == 2:\n",
    "    Zo_rho = (ds_roms.hc * ds_roms.s_rho + ds_roms.Cs_r * ds_roms.h) / (ds_roms.hc + ds_roms.h)\n",
    "    z_rho = ds_roms.zeta + (ds_roms.zeta + ds_roms.h) * Zo_rho\n",
    "    Zo_w = (ds_roms.hc * ds_roms.s_w + ds_roms.Cs_w * ds_roms.h) / (ds_roms.hc + ds_roms.h)\n",
    "    z_w = ds_roms.zeta + (ds_roms.zeta + ds_roms.h) * Zo_w\n",
    "    # also include z coordinates with mean sea level (constant over time)\n",
    "    z_rho0 = ds_roms.h * Zo_rho\n",
    "    z_w0 = ds_roms.h * Zo_w\n",
    "\n",
    "ds_roms.coords[\"z_w\"] = z_w.transpose('ocean_time', 's_w', 'eta_rho', 'xi_rho')\n",
    "ds_roms.coords[\"z_rho\"] = z_rho.transpose('ocean_time', 's_rho', 'eta_rho', 'xi_rho')\n",
    "ds_roms.coords[\"z_rho0\"] = z_rho0.transpose('s_rho', 'eta_rho', 'xi_rho')\n",
    "ds_roms.coords[\"z_w0\"] = z_w0.transpose('s_w', 'eta_rho', 'xi_rho')\n",
    "\n"
   ]
  },
  {
   "cell_type": "code",
   "execution_count": null,
   "id": "076cf429-26ab-4b3c-8119-3ca50d83fffc",
   "metadata": {},
   "outputs": [],
   "source": [
    "section = ds_roms.temp.isel(eta_rho=0, ocean_time=100)\n",
    "plt=section.plot(x=\"xi_rho\", y=\"z_rho\", figsize=(15, 6), clim=(25, 35))\n",
    "plt.set_clim([14, 22]);"
   ]
  },
  {
   "cell_type": "markdown",
   "id": "7d9a3bce-4b1f-453f-b269-8fe0731d4452",
   "metadata": {
    "jp-MarkdownHeadingCollapsed": true,
    "tags": []
   },
   "source": [
    "Load ROMSX dataset from Exec/Upwelling\n",
    "======================================"
   ]
  },
  {
   "cell_type": "code",
   "execution_count": null,
   "id": "39351417-f467-4798-b229-7f81cb29ccf0",
   "metadata": {
    "tags": []
   },
   "outputs": [],
   "source": [
    "#ds = xarray.open_dataset(home_top_dir+\"/seahorce-scidac/ROMSX/Exec/Upwelling/plt_his.nc\", chunks={\"ocean_time\": 2})\n",
    "#ds\n",
    "ds = xarray.open_dataset(home_top_dir+\"/plt_his.nc\", chunks={\"ocean_time\": 2})\n",
    "ds\n",
    "#section=ds.x_velocity.isel(ocean_time=0,s_rho=slice(0,15),eta_rho=slice(1,80),xi_rho=slice(1,40))\n",
    "section=ds.x_velocity.isel(ocean_time=0,s_rho=slice(0,15),eta_rho=40,xi_rho=slice(1,40))\n",
    "print(np.sum(section.as_numpy()))"
   ]
  },
  {
   "cell_type": "markdown",
   "id": "c3333a63-6cf8-456c-a613-fef3d1e9ce81",
   "metadata": {
    "jp-MarkdownHeadingCollapsed": true,
    "tags": []
   },
   "source": [
    "Compare Plots by Eye-Norm\n",
    "==========================\n",
    "\n",
    "For now these are visual comparisons, as the dimensions of interest are not reflected the same for velocity fields, e.g. xi_u vs xi_rho"
   ]
  },
  {
   "cell_type": "code",
   "execution_count": null,
   "id": "96592e0c-fdf4-45f3-9e31-f829401cadb8",
   "metadata": {
    "tags": []
   },
   "outputs": [],
   "source": [
    "diff_temp=((ds_roms.u.isel(ocean_time=100)).as_numpy()-(ds_roms.u.isel(ocean_time=0)).as_numpy())\n",
    "diff_temp.plot()\n",
    "diff_temp.sum().as_numpy()"
   ]
  },
  {
   "cell_type": "code",
   "execution_count": null,
   "id": "b46e1682-6090-4ec5-8b83-b82f0fef12ac",
   "metadata": {},
   "outputs": [],
   "source": [
    "diff_temp=((ds_roms.u.isel(ocean_time=100)).as_numpy()-(ds_roms.u.isel(ocean_time=0)).as_numpy())\n",
    "diff_temp.plot()\n",
    "diff_temp.sum().as_numpy()"
   ]
  },
  {
   "cell_type": "code",
   "execution_count": null,
   "id": "eae76846-d339-4a09-962f-fe541f853f3c",
   "metadata": {},
   "outputs": [],
   "source": [
    "\n",
    "#section = ds_roms.w.isel(eta_rho=40,ocean_time=100)-ds_roms.w.isel(eta_rho=40, ocean_time=0)\n",
    "section = ds_roms.salt.isel(eta_rho=40,ocean_time=100)\n",
    "plt=section.plot(x=\"xi_rho\", y=\"s_rho\", figsize=(15, 6), clim=(25, 35))\n",
    "#plt.set_clim([14, 22]);"
   ]
  },
  {
   "cell_type": "code",
   "execution_count": null,
   "id": "27fc1573-6f53-4612-b06b-cc8d28b1c061",
   "metadata": {
    "tags": []
   },
   "outputs": [],
   "source": [
    "\n",
    "#section = ds_roms.w.isel(eta_rho=40,ocean_time=100)-ds_roms.w.isel(eta_rho=40, ocean_time=0)\n",
    "section = ds_roms.u.isel(eta_u=40,ocean_time=0)\n",
    "plt=section.plot(x=\"xi_u\", y=\"s_rho\", figsize=(15, 6), clim=(25, 35))\n",
    "#plt.set_clim([14, 22]);\n",
    "section = ds_roms.u.isel(eta_u=40,ocean_time=1)\n",
    "plt=section.plot(x=\"xi_u\", y=\"s_rho\", figsize=(15, 6), clim=(25, 35))"
   ]
  },
  {
   "cell_type": "code",
   "execution_count": null,
   "id": "db481bb1-1315-4e30-9db5-0b65b08b2e3d",
   "metadata": {
    "tags": []
   },
   "outputs": [],
   "source": [
    "\n",
    "#section = ds_roms.w.isel(eta_rho=40,ocean_time=100)-ds_roms.w.isel(eta_rho=40, ocean_time=0)\n",
    "section = ds.x_velocity.isel(eta_rho=40,ocean_time=0)\n",
    "plt=section.plot(x=\"xi_rho\", y=\"s_rho\", figsize=(15, 6), clim=(25, 35))\n",
    "#plt.set_clim([14, 22]);\n",
    "section = ds.x_velocity.isel(eta_rho=40,ocean_time=1)\n",
    "plt=section.plot(x=\"xi_rho\", y=\"s_rho\", figsize=(15, 6), clim=(25, 35))"
   ]
  },
  {
   "cell_type": "code",
   "execution_count": null,
   "id": "f5644556-af2e-495a-99bd-b3cb99e6fc39",
   "metadata": {},
   "outputs": [],
   "source": [
    "\n",
    "#section = ds_roms.w.isel(eta_rho=40,ocean_time=100)-ds_roms.w.isel(eta_rho=40, ocean_time=0)\n",
    "section = ds_roms.v.isel(eta_v=40,ocean_time=0)\n",
    "plt=section.plot(x=\"xi_v\", y=\"s_rho\", figsize=(15, 6), clim=(25, 35))\n",
    "#plt.set_clim([14, 22]);"
   ]
  },
  {
   "cell_type": "code",
   "execution_count": null,
   "id": "748f1c29-55ba-4463-ad31-d01034a1fb4a",
   "metadata": {},
   "outputs": [],
   "source": [
    "\n",
    "#section = ds_roms.w.isel(eta_rho=40,ocean_time=100)-ds_roms.w.isel(eta_rho=40, ocean_time=0)\n",
    "section = ds_roms.w.isel(eta_rho=40,ocean_time=0)\n",
    "plt=section.plot(x=\"x_rho\", y=\"s_w\", figsize=(15, 6), clim=(25, 35))\n",
    "#plt.set_clim([14, 22]);\n"
   ]
  },
  {
   "cell_type": "code",
   "execution_count": null,
   "id": "d70fd4fc-008b-426a-84d4-f3cbb5935400",
   "metadata": {},
   "outputs": [],
   "source": [
    "\n",
    "section = ds.temp.isel(ocean_time=0)-ds_roms.temp.isel(ocean_time=0)\n",
    "print(section.as_numpy().max())\n",
    "print(section.as_numpy().min())\n",
    "#plt.set_clim([14, 22]);\n"
   ]
  },
  {
   "cell_type": "code",
   "execution_count": null,
   "id": "c8536b75-9ca4-48cc-ba37-ab3ee11e2157",
   "metadata": {},
   "outputs": [],
   "source": []
  },
  {
   "cell_type": "markdown",
   "id": "795da44b-082e-4d5f-abc7-39a7471f5e03",
   "metadata": {
    "jp-MarkdownHeadingCollapsed": true,
    "tags": []
   },
   "source": [
    "Compare element-wise\n",
    "====================\n",
    "Goal is to be able to make an \"error\" plot for more eye-norms, next step requires making the coordinate directions the same such that xi_rho (the 2-d version) and x_rho (the 1-d version) are comparable"
   ]
  },
  {
   "cell_type": "code",
   "execution_count": null,
   "id": "eca2650f-2df0-4b88-8828-be0cce54d766",
   "metadata": {
    "tags": []
   },
   "outputs": [],
   "source": [
    "#print((ds_roms.u.isel(ocean_time=0,s_rho=slice(0,15),eta_u=40,xi_u=slice(1,40)).as_numpy())-(ds.x_velocity.isel(ocean_time=0,s_rho=slice(0,15),eta_rho=40,xi_rho=slice(2,41))).as_numpy())\n",
    "##plt=section.plot(x=\"x_rho\", y=\"z_rho\", figsize=(15, 6), clim=(25, 35))\n",
    "\n",
    "##print((ds_roms.u.isel(ocean_time=0,s_rho=3,eta_u=3,xi_u=3).as_numpy()))\n",
    "#print((ds.x_velocity.isel(ocean_time=1,s_rho=2,eta_rho=3,xi_rho=3).as_numpy()))\n",
    "#print((ds_roms.u.isel(ocean_time=1,s_rho=2,eta_u=2,xi_u=2)).as_numpy())\n",
    "\n",
    "#print((ds_roms.u.isel(ocean_time=1,s_rho=2,eta_u=2,xi_u=2)).as_numpy()-(ds.x_velocity.isel(ocean_time=1,s_rho=2,eta_rho=2,xi_rho=3).as_numpy()))\n",
    "##print((ds_roms.u.isel(ocean_time=1,s_rho=2,eta_u=2,xi_u=slice(2,40))).as_numpy()-(ds.x_velocity.isel(ocean_time=1,s_rho=2,eta_rho=2,xi_rho=slice(3,41)).as_numpy()))\n",
    "#print((ds_roms.u.isel(ocean_time=1,s_rho=2,eta_u=3,xi_u=5)).as_numpy()-(ds.x_velocity.isel(ocean_time=1,s_rho=2,eta_rho=3,xi_rho=6).as_numpy()))\n",
    "#print((ds_roms.v.isel(ocean_time=1,s_rho=2,eta_v=2,xi_v=2)).as_numpy()-(ds.y_velocity.isel(ocean_time=1,s_rho=2,eta_rho=3,xi_rho=2).as_numpy()))\n",
    "#print((ds_roms.v.isel(ocean_time=1,s_rho=2,eta_v=3,xi_v=5)).as_numpy()-(ds.y_velocity.isel(ocean_time=1,s_rho=2,eta_rho=4,xi_rho=5).as_numpy()))\n",
    "\n",
    "print((ds_roms.u.isel(ocean_time=0,s_rho=3,eta_u=3,xi_u=3)).as_numpy()-(ds.x_velocity.isel(ocean_time=0,s_rho=3,eta_rho=3,xi_rho=3).as_numpy()))\n",
    "\n",
    "print((ds_roms.u.isel(ocean_time=1,s_rho=3,eta_u=3,xi_u=3)).as_numpy()-(ds.x_velocity.isel(ocean_time=1,s_rho=3,eta_rho=3,xi_rho=3).as_numpy()))\n",
    "print((ds_roms.u.isel(ocean_time=1,s_rho=15,eta_u=3,xi_u=3)).as_numpy()-(ds.x_velocity.isel(ocean_time=1,s_rho=15,eta_rho=3,xi_rho=3).as_numpy()))\n",
    "print((ds_roms.u.isel(ocean_time=1,s_rho=3,eta_u=3,xi_u=0)).as_numpy()-(ds.x_velocity.isel(ocean_time=1,s_rho=3,eta_rho=3,xi_rho=0).as_numpy()))\n",
    "\n",
    "print((ds_roms.u.isel(ocean_time=1,s_rho=3,eta_u=3,xi_u=0)).as_numpy())\n",
    "print((ds.x_velocity.isel(ocean_time=1,s_rho=3,eta_rho=3,xi_rho=0).as_numpy()))\n",
    "\n",
    "print((ds_roms.u.isel(ocean_time=2,s_rho=3,eta_u=3,xi_u=3)).as_numpy()-(ds.x_velocity.isel(ocean_time=2,s_rho=3,eta_rho=3,xi_rho=3).as_numpy()))\n",
    "\n",
    "for i in range(2,4):\n",
    "    for j in range(2,4):\n",
    "        for k in range(1,4):\n",
    "            print(i,j,k)\n",
    "            #print((ds_roms.u.isel(ocean_time=2,s_rho=k,eta_u=j,xi_u=i)).as_numpy())\n",
    "            #print(ds.x_velocity.isel(ocean_time=2,s_rho=k,eta_rho=j,xi_rho=i).as_numpy())"
   ]
  },
  {
   "cell_type": "code",
   "execution_count": null,
   "id": "34f88580-c3d3-4b1a-9894-c4653bef53f8",
   "metadata": {
    "tags": []
   },
   "outputs": [],
   "source": [
    "#for j, i in combinations(range(40), 81):\n",
    "for i in range(2,40):\n",
    "    for j in range(1,80):\n",
    "        diff_u = (ds_roms.u.isel(ocean_time=1,s_rho=3,eta_u=j,xi_u=i)).as_numpy()-(ds.x_velocity.isel(ocean_time=1,s_rho=3,eta_rho=j,xi_rho=i)).as_numpy()\n",
    "        if(diff_u !=0):\n",
    "            print(i,j)\n",
    "            print(diff_u.as_numpy())\n",
    "\n",
    "for i in range(2,4):\n",
    "    for j in range(1,8):\n",
    "        diff_u = (ds_roms.u.isel(ocean_time=0,s_rho=3,eta_u=j,xi_u=i)).as_numpy()-(ds.x_velocity.isel(ocean_time=0,s_rho=3,eta_rho=j,xi_rho=i)).as_numpy()\n",
    "        if(diff_u !=0):\n",
    "            print(i,j)\n",
    "            print(diff_u.as_numpy())\n",
    "\n",
    "for i in range(1,4):\n",
    "    for j in range(1,8):\n",
    "        diff_u = (ds_roms.u.isel(ocean_time=1,s_rho=3,eta_u=j,xi_u=i)).as_numpy()-(ds.x_velocity.isel(ocean_time=1,s_rho=3,eta_rho=j,xi_rho=i)).as_numpy()\n",
    "        print(i,j)\n",
    "        print(diff_u.as_numpy())\n",
    "#print((ds_roms.u.isel(ocean_time=1,s_rho=2,eta_u=2,xi_u=slice(2,40))).as_numpy()-(ds.x_velocity.isel(ocean_time=1,s_rho=2,eta_rho=2,xi_rho=slice(3,41)).as_numpy()))"
   ]
  },
  {
   "cell_type": "code",
   "execution_count": null,
   "id": "632f7155-fad3-47bb-83bf-78beecca703b",
   "metadata": {},
   "outputs": [],
   "source": [
    "#print(ds.temp.isel(xi_rho=slice(2,3),eta_rho=slice(3,4)).as_numpy())\n",
    "for k in np.arange(-1,15):\n",
    "    a=(ds.temp.isel(xi_rho=slice(1,2), eta_rho=slice(1,2),s_rho=slice(1+k,2+k),ocean_time=0)).as_numpy()\n",
    "    b=(ds_roms.temp.isel(xi_rho=slice(1,2), eta_rho=slice(1,2),s_rho=slice(1+k,2+k), ocean_time=0)).as_numpy()\n",
    "#    print(\"ROMSX:       \")\n",
    "#    print(a[0][0][0])\n",
    "#    print(\"ROMS:        \")\n",
    "#    print(b[0][0][0])\n",
    "    diff_temp=a-b\n",
    "#    print(\"ROMSX-ROMS:  \")\n",
    "#    print(diff_temp)\n",
    "    if(diff_temp!=0.0):\n",
    "        print(\"sdlfkjdlkfjsl\")\n",
    "        print(diff_temp-0.0)\n"
   ]
  }
 ],
 "metadata": {
  "kernelspec": {
   "display_name": "seahorse-cori-mp111",
   "language": "python",
   "name": "seahorce-cori-mp111"
  },
  "language_info": {
   "codemirror_mode": {
    "name": "ipython",
    "version": 3
   },
   "file_extension": ".py",
   "mimetype": "text/x-python",
   "name": "python",
   "nbconvert_exporter": "python",
   "pygments_lexer": "ipython3",
   "version": "3.10.6"
  }
 },
 "nbformat": 4,
 "nbformat_minor": 5
}
